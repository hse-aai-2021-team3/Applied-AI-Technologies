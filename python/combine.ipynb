{
  "nbformat": 4,
  "nbformat_minor": 0,
  "metadata": {
    "colab": {
      "name": "combine.ipynb",
      "provenance": [],
      "collapsed_sections": []
    },
    "kernelspec": {
      "name": "python3",
      "display_name": "Python 3"
    },
    "language_info": {
      "name": "python"
    }
  },
  "cells": [
    {
      "cell_type": "code",
      "metadata": {
        "id": "JKpe_k4P2IR1"
      },
      "source": [
        "# Imports\n",
        "import librosa"
      ],
      "execution_count": null,
      "outputs": []
    },
    {
      "cell_type": "code",
      "metadata": {
        "id": "sYHjGw-tzZBR"
      },
      "source": [
        "# Mount Google Drive\n",
        "from google.colab import drive\n",
        "drive.mount('/content/drive')"
      ],
      "execution_count": null,
      "outputs": []
    },
    {
      "cell_type": "code",
      "metadata": {
        "id": "9FJSLbX70Ivs"
      },
      "source": [
        "# Load input data\n",
        "samples1, fs1 = librosa.load(\"/content/drive/MyDrive/StyleChanger/transfered_vocal_clean.wav\")\n",
        "samples2, fs2 = librosa.load(\"/content/drive/MyDrive/StyleChanger/transfered_drums_clean.wav\")\n",
        "samples3, fs3 = librosa.load(\"/content/drive/MyDrive/StyleChanger/transfered_bass_clean.wav\")\n",
        "samples4, fs4 = librosa.load(\"/content/drive/MyDrive/StyleChanger/transfered_other_clean.wav\")"
      ],
      "execution_count": null,
      "outputs": []
    },
    {
      "cell_type": "code",
      "metadata": {
        "id": "R2x4-DjI1IGF"
      },
      "source": [
        "# Combine samples\n",
        "samples = 0.25 * samples1\n",
        "samples += 0.25 * samples2\n",
        "samples += 0.25 * samples3\n",
        "samples += 0.25 * samples4\n",
        "\n",
        "fs = fs1"
      ],
      "execution_count": null,
      "outputs": []
    },
    {
      "cell_type": "code",
      "metadata": {
        "id": "-rAf0ZHR1mMc"
      },
      "source": [
        "# Save output data\n",
        "import soundfile as sf\n",
        "sf.write(\"/content/drive/MyDrive/StyleChanger/transfered_sum.wav\", samples, fs)"
      ],
      "execution_count": null,
      "outputs": []
    },
    {
      "cell_type": "code",
      "metadata": {
        "id": "54SZBv33z2hU"
      },
      "source": [
        "# Read and save settings\n",
        "fp = open('/content/drive/MyDrive/StyleChanger/data.json', 'r')\n",
        "settings = json.load(fp)\n",
        "# edit settings\n",
        "fp.close()\n",
        "\n",
        "# save/overwrite file\n",
        "fp = open('/content/drive/MyDrive/StyleChanger/data.json', 'w+')\n",
        "fp.seek(0)\n",
        "json.dump(settings, fp, indent=2)\n",
        "fp.close()"
      ],
      "execution_count": null,
      "outputs": []
    },
    {
      "cell_type": "code",
      "metadata": {
        "id": "Ws8n7J8Gz21V"
      },
      "source": [
        "# Unmount Google Drive\n",
        "drive.flush_and_unmount()\n",
        "print('All changes made in this colab session should now be visible in Drive.')"
      ],
      "execution_count": null,
      "outputs": []
    }
  ]
}