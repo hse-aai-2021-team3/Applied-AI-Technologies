{
  "nbformat": 4,
  "nbformat_minor": 0,
  "metadata": {
    "colab": {
      "name": "upload.ipynb",
      "provenance": []
    },
    "kernelspec": {
      "name": "python3",
      "display_name": "Python 3"
    },
    "language_info": {
      "name": "python"
    }
  },
  "cells": [
    {
      "cell_type": "markdown",
      "metadata": {
        "id": "N3_N51XB5C7d"
      },
      "source": [
        "Uploads Style and Content files to google drive as style.wav and content.wav"
      ]
    },
    {
      "cell_type": "code",
      "metadata": {
        "id": "v2wvtO9k5iZG"
      },
      "source": [
        "from google.colab import files\n",
        "#from IPython.display import Audio #for testing\n",
        "import os\n",
        "import shutil\n",
        "import json"
      ],
      "execution_count": null,
      "outputs": []
    },
    {
      "cell_type": "code",
      "metadata": {
        "id": "mREJUQIL7djY"
      },
      "source": [
        "def getUploadedFile():\n",
        "  while (1):\n",
        "    uploaded = files.upload()\n",
        "    if (len(uploaded.keys()) > 1):\n",
        "      print('UPLOAD ONLY ONE FILE !1!!!11! :(')\n",
        "      for fn in uploaded.keys():\n",
        "        os.remove(fn)\n",
        "    else:\n",
        "      print('User uploaded file \"{name}\" with length {length} bytes'.format(name=list(uploaded.keys())[0], length=len(uploaded[list(uploaded.keys())[0]])))\n",
        "      return list(uploaded.keys())[0]"
      ],
      "execution_count": null,
      "outputs": []
    },
    {
      "cell_type": "code",
      "metadata": {
        "id": "mt0wVKDS68Qv"
      },
      "source": [
        "#upload content file\n",
        "contentname = getUploadedFile()"
      ],
      "execution_count": null,
      "outputs": []
    },
    {
      "cell_type": "code",
      "metadata": {
        "id": "1tJ87fvp8_lV"
      },
      "source": [
        "#upload style file\n",
        "stylename = getUploadedFile()"
      ],
      "execution_count": null,
      "outputs": []
    },
    {
      "cell_type": "code",
      "metadata": {
        "id": "1uXNvRBT-HQZ"
      },
      "source": [
        "from google.colab import drive\n",
        "drive.mount('/content/drive')"
      ],
      "execution_count": null,
      "outputs": []
    },
    {
      "cell_type": "code",
      "metadata": {
        "id": "TO6klvJtIGGl"
      },
      "source": [
        "file_path = '/content/drive/MyDrive/StyleChanger'\n",
        "if (not os.path.exists(file_path)):\n",
        "  os.mkdir(file_path)"
      ],
      "execution_count": null,
      "outputs": []
    },
    {
      "cell_type": "code",
      "metadata": {
        "id": "TkfevPb5Kk47"
      },
      "source": [
        "try:\n",
        "    os.remove(\"/content/drive/MyDrive/StyleChanger/style.wav\")\n",
        "    os.remove(\"/content/drive/MyDrive/StyleChanger/content.wav\")\n",
        "except OSError:\n",
        "    pass\n",
        "\n",
        "shutil.copy(stylename, \"/content/drive/MyDrive/StyleChanger/style.wav\")\n",
        "shutil.copy(contentname, \"/content/drive/MyDrive/StyleChanger/content.wav\")\n",
        "print(\"files placed in drive\")"
      ],
      "execution_count": null,
      "outputs": []
    },
    {
      "cell_type": "code",
      "metadata": {
        "id": "8rGsNZWN-LCz"
      },
      "source": [
        "# create settings file\n",
        "settings = {}\n",
        "settings['stylename'] = stylename\n",
        "settings['contentname'] = contentname\n",
        "\n",
        "# remove old settings file\n",
        "try:\n",
        "    os.remove(\"/content/drive/MyDrive/StyleChanger/data.json\")\n",
        "except OSError:\n",
        "    pass\n",
        "\n",
        "# save/overwrite file\n",
        "fp = open('/content/drive/MyDrive/StyleChanger/data.json', 'w+')\n",
        "fp.seek(0)\n",
        "json.dump(settings, fp, indent=2)\n",
        "fp.close()"
      ],
      "execution_count": null,
      "outputs": []
    },
    {
      "cell_type": "code",
      "metadata": {
        "id": "nEnseFZgN1sA"
      },
      "source": [
        "drive.flush_and_unmount()\n",
        "print('All changes made in this colab session should now be visible in Drive.')"
      ],
      "execution_count": null,
      "outputs": []
    }
  ]
}