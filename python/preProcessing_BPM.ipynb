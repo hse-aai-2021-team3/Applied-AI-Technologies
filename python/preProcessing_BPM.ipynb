{
  "nbformat": 4,
  "nbformat_minor": 5,
  "metadata": {
    "kernelspec": {
      "display_name": "Python 3",
      "language": "python",
      "name": "python3"
    },
    "language_info": {
      "codemirror_mode": {
        "name": "ipython",
        "version": 3
      },
      "file_extension": ".py",
      "mimetype": "text/x-python",
      "name": "python",
      "nbconvert_exporter": "python",
      "pygments_lexer": "ipython3",
      "version": "3.8.8"
    },
    "colab": {
      "name": "preProcessing_BPM.ipynb",
      "provenance": []
    }
  },
  "cells": [
    {
      "cell_type": "code",
      "metadata": {
        "id": "hUcT21eIAVuq"
      },
      "source": [
        "pip install audiotsm"
      ],
      "id": "hUcT21eIAVuq",
      "execution_count": null,
      "outputs": []
    },
    {
      "cell_type": "code",
      "metadata": {
        "id": "06293ca7"
      },
      "source": [
        "# Imports\n",
        "import numpy as np\n",
        "from PIL import Image\n",
        "import requests\n",
        "from io import BytesIO\n",
        "import cv2\n",
        "\n",
        "from keras import backend\n",
        "from keras.models import Model\n",
        "from keras.applications.vgg16 import VGG16\n",
        "\n",
        "from scipy.optimize import fmin_l_bfgs_b\n",
        "import tensorflow as tf\n",
        "tf.compat.v1.disable_eager_execution()\n",
        "\n",
        "import librosa\n",
        "from librosa import display\n",
        "import matplotlib.pyplot as plt\n",
        "%matplotlib inline\n",
        "\n",
        "import math\n",
        "import pywt\n",
        "from scipy import signal\n",
        "\n",
        "from audiotsm import phasevocoder\n",
        "from audiotsm.io.wav import WavReader, WavWriter\n",
        "\n",
        "import json"
      ],
      "id": "06293ca7",
      "execution_count": null,
      "outputs": []
    },
    {
      "cell_type": "code",
      "metadata": {
        "id": "8cfcb36c"
      },
      "source": [
        "def read_audio_spectum_extended(filename):\n",
        "    x, fs = librosa.load(filename)\n",
        "    S = librosa.stft(x, N_FFT)\n",
        "    S = np.log1p(np.abs(S)) \n",
        "    return S, x, fs"
      ],
      "id": "8cfcb36c",
      "execution_count": null,
      "outputs": []
    },
    {
      "cell_type": "code",
      "metadata": {
        "id": "ffb31f67"
      },
      "source": [
        "# SOURCE: https://github.com/scaperot/the-BPM-detector-python/blob/master/bpm_detection/bpm_detection.py\n",
        "def no_audio_data():\n",
        "    print(\"No audio data for sample, skipping...\")\n",
        "    return None, None\n",
        "\n",
        "def peak_detect(data):\n",
        "    max_val = np.amax(abs(data))\n",
        "    peak_ndx = np.where(data == max_val)\n",
        "    if len(peak_ndx[0]) == 0:  # if nothing found then the max must be negative\n",
        "        peak_ndx = np.where(data == -max_val)\n",
        "    return peak_ndx\n",
        "\n",
        "def bpm_detector(data, fs):\n",
        "    cA = []\n",
        "    cD = []\n",
        "    correl = []\n",
        "    cD_sum = []\n",
        "    levels = 4\n",
        "    max_decimation = 2 ** (levels - 1)\n",
        "    min_ndx = math.floor(60.0 / 220 * (fs / max_decimation))\n",
        "    max_ndx = math.floor(60.0 / 40 * (fs / max_decimation))\n",
        "\n",
        "    for loop in range(0, levels):\n",
        "        cD = []\n",
        "        # 1) DWT\n",
        "        if loop == 0:\n",
        "            [cA, cD] = pywt.dwt(data, \"db4\")\n",
        "            cD_minlen = len(cD) / max_decimation + 1\n",
        "            cD_sum = np.zeros(math.floor(cD_minlen))\n",
        "        else:\n",
        "            [cA, cD] = pywt.dwt(cA, \"db4\")\n",
        "\n",
        "        # 2) Filter\n",
        "        cD = signal.lfilter([0.01], [1 - 0.99], cD)\n",
        "\n",
        "        # 4) Subtract out the mean.\n",
        "\n",
        "        # 5) Decimate for reconstruction later.\n",
        "        cD = abs(cD[:: (2 ** (levels - loop - 1))])\n",
        "        cD = cD - np.mean(cD)\n",
        "\n",
        "        # 6) Recombine the signal before ACF\n",
        "        #    Essentially, each level the detail coefs (i.e. the HPF values) are concatenated to the beginning of the array\n",
        "        cD_sum = cD[0 : math.floor(cD_minlen)] + cD_sum\n",
        "\n",
        "    if [b for b in cA if b != 0.0] == []:\n",
        "        return no_audio_data()\n",
        "\n",
        "    # Adding in the approximate data as well...\n",
        "    cA = signal.lfilter([0.01], [1 - 0.99], cA)\n",
        "    cA = abs(cA)\n",
        "    cA = cA - np.mean(cA)\n",
        "    cD_sum = cA[0 : math.floor(cD_minlen)] + cD_sum\n",
        "\n",
        "    # ACF\n",
        "    correl = np.correlate(cD_sum, cD_sum, \"full\")\n",
        "\n",
        "    midpoint = math.floor(len(correl) / 2)\n",
        "    correl_midpoint_tmp = correl[midpoint:]\n",
        "    peak_ndx = peak_detect(correl_midpoint_tmp[min_ndx:max_ndx])\n",
        "    if len(peak_ndx) > 1:\n",
        "        return no_audio_data()\n",
        "\n",
        "    peak_ndx_adjusted = peak_ndx[0] + min_ndx\n",
        "    bpm = 60.0 / peak_ndx_adjusted * (fs / max_decimation)\n",
        "    #print(bpm)\n",
        "    return bpm, correl\n",
        "\n",
        "def get_bpm(raw_samples, fs):\n",
        "    data = []\n",
        "    correl = []\n",
        "    bpm = 0\n",
        "    n = 0\n",
        "    nsamps = len(raw_samples)\n",
        "    window_samps = int(window * fs)\n",
        "    samps_ndx = 0  # First sample in window_ndx\n",
        "    max_window_ndx = math.floor(nsamps / window_samps)\n",
        "    bpms = np.zeros(max_window_ndx)\n",
        "    \n",
        "    for window_ndx in range(0, max_window_ndx):\n",
        "\n",
        "        # Get a new set of samples\n",
        "        # print(n,\":\",len(bpms),\":\",max_window_ndx_int,\":\",fs,\":\",nsamps,\":\",samps_ndx)\n",
        "        data = raw_samples[samps_ndx : samps_ndx + window_samps]\n",
        "        if not ((len(data) % window_samps) == 0):\n",
        "            raise AssertionError(str(len(data)))\n",
        "\n",
        "        bpm, correl_temp = bpm_detector(data, fs)\n",
        "        if bpm is None:\n",
        "            continue\n",
        "        bpms[window_ndx] = bpm\n",
        "        correl = correl_temp\n",
        "\n",
        "        # Iterate at the end of the loop\n",
        "        samps_ndx = samps_ndx + window_samps\n",
        "\n",
        "        # Counter for debug...\n",
        "        n = n + 1\n",
        "\n",
        "    bpm = np.median(bpms)\n",
        "    \n",
        "    return bpm"
      ],
      "id": "ffb31f67",
      "execution_count": null,
      "outputs": []
    },
    {
      "cell_type": "code",
      "metadata": {
        "id": "MaURdvlJXj-h"
      },
      "source": [
        "from google.colab import drive\n",
        "drive.mount('/content/drive')"
      ],
      "id": "MaURdvlJXj-h",
      "execution_count": null,
      "outputs": []
    },
    {
      "cell_type": "code",
      "metadata": {
        "id": "cd2e9937"
      },
      "source": [
        "CONTENT_FILENAME = '/content/drive/MyDrive/StyleChanger/content.wav'\n",
        "STYLE_FILENAME = '/content/drive/MyDrive/StyleChanger/style.wav'\n",
        "STYLE_BPM_MOD_FILENAME = '/content/drive/MyDrive/StyleChanger/style_synced.wav'\n",
        "\n",
        "N_FFT = 2048\n",
        "\n",
        "window = 3"
      ],
      "id": "cd2e9937",
      "execution_count": null,
      "outputs": []
    },
    {
      "cell_type": "code",
      "metadata": {
        "id": "e07bcc35"
      },
      "source": [
        "a_content, raw_content, fs_content = read_audio_spectum_extended(CONTENT_FILENAME)\n",
        "a_style, raw_style, fs_style = read_audio_spectum_extended(STYLE_FILENAME)"
      ],
      "id": "e07bcc35",
      "execution_count": null,
      "outputs": []
    },
    {
      "cell_type": "code",
      "metadata": {
        "id": "50cf2c9d"
      },
      "source": [
        "bpm_content = get_bpm(raw_content, fs_content);\n",
        "bpm_style = get_bpm(raw_style, fs_style);\n",
        "print(bpm_content)\n",
        "print(bpm_style)\n",
        "\n",
        "bpm_ratio = bpm_content / bpm_style;\n",
        "print(bpm_ratio)"
      ],
      "id": "50cf2c9d",
      "execution_count": null,
      "outputs": []
    },
    {
      "cell_type": "code",
      "metadata": {
        "id": "da3dc01f"
      },
      "source": [
        "with WavReader(STYLE_FILENAME) as reader:\n",
        "    with WavWriter(STYLE_BPM_MOD_FILENAME, reader.channels, reader.samplerate) as writer:\n",
        "        tsm = phasevocoder(reader.channels, speed=bpm_ratio)\n",
        "        tsm.run(reader, writer)"
      ],
      "id": "da3dc01f",
      "execution_count": null,
      "outputs": []
    },
    {
      "cell_type": "code",
      "metadata": {
        "id": "5ot9adrC_5YS"
      },
      "source": [
        "fp = open('/content/drive/MyDrive/StyleChanger/data.json', 'r')\n",
        "settings = json.load(fp)\n",
        "settings['styleBPM'] = bpm_style\n",
        "settings['contentBPM'] = bpm_content\n",
        "fp.close()\n",
        "\n",
        "# save/overwrite file\n",
        "fp = open('/content/drive/MyDrive/StyleChanger/data.json', 'w+')\n",
        "fp.seek(0)\n",
        "json.dump(settings, fp, indent=2)\n",
        "fp.close()"
      ],
      "id": "5ot9adrC_5YS",
      "execution_count": null,
      "outputs": []
    },
    {
      "cell_type": "code",
      "metadata": {
        "id": "a91f31cd"
      },
      "source": [
        "drive.flush_and_unmount()\n",
        "print('All changes made in this colab session should now be visible in Drive.')"
      ],
      "id": "a91f31cd",
      "execution_count": null,
      "outputs": []
    }
  ]
}