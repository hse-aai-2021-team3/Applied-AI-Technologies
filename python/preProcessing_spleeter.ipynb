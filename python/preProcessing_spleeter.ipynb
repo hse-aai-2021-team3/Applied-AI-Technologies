{
  "nbformat": 4,
  "nbformat_minor": 0,
  "metadata": {
    "colab": {
      "name": "spleeter.ipynb",
      "provenance": [],
      "collapsed_sections": [],
      "toc_visible": true
    },
    "kernelspec": {
      "display_name": "Python 3",
      "name": "python3"
    }
  },
  "cells": [
    {
      "cell_type": "markdown",
      "metadata": {
        "id": "K6mcSc0mmp3i"
      },
      "source": [
        "# Install spleeter"
      ]
    },
    {
      "cell_type": "code",
      "metadata": {
        "id": "f8Brdfh6mzEz"
      },
      "source": [
        "pip install ffmpeg"
      ],
      "execution_count": null,
      "outputs": []
    },
    {
      "cell_type": "code",
      "metadata": {
        "id": "V_6Ram1lmc1F"
      },
      "source": [
        "pip install spleeter"
      ],
      "execution_count": null,
      "outputs": []
    },
    {
      "cell_type": "code",
      "metadata": {
        "id": "W0LktyMypXqE"
      },
      "source": [
        "from IPython.display import Audio\n",
        "import shutil"
      ],
      "execution_count": null,
      "outputs": []
    },
    {
      "cell_type": "code",
      "metadata": {
        "id": "wFsOjeFzYnmw"
      },
      "source": [
        "from google.colab import drive\n",
        "drive.mount('/content/drive')"
      ],
      "execution_count": null,
      "outputs": []
    },
    {
      "cell_type": "markdown",
      "metadata": {
        "id": "afbcUSken16L"
      },
      "source": [
        "# Separate from command line"
      ]
    },
    {
      "cell_type": "code",
      "metadata": {
        "id": "YTehxYo8ZgN4"
      },
      "source": [
        "#seperate content\n",
        "!spleeter separate -o output/ -p spleeter:4stems /content/drive/MyDrive/StyleChanger/content.wav\n",
        "shutil.copy(\"output/content/vocals.wav\", \"/content/drive/MyDrive/StyleChanger/content_vocal.wav\")\n",
        "shutil.copy(\"output/content/drums.wav\", \"/content/drive/MyDrive/StyleChanger/content_drums.wav\")\n",
        "shutil.copy(\"output/content/bass.wav\", \"/content/drive/MyDrive/StyleChanger/content_bass.wav\")\n",
        "shutil.copy(\"output/content/other.wav\", \"/content/drive/MyDrive/StyleChanger/content_other.wav\")"
      ],
      "execution_count": null,
      "outputs": []
    },
    {
      "cell_type": "code",
      "metadata": {
        "id": "dGL-k5xxoKbu"
      },
      "source": [
        "# seperate stlye\n",
        "!spleeter separate -o output/ -p spleeter:4stems /content/drive/MyDrive/StyleChanger/style_synced.wav\n",
        "shutil.copy(\"output/style_synced/vocals.wav\", \"/content/drive/MyDrive/StyleChanger/style_vocal.wav\")\n",
        "shutil.copy(\"output/style_synced/drums.wav\", \"/content/drive/MyDrive/StyleChanger/style_drums.wav\")\n",
        "shutil.copy(\"output/style_synced/bass.wav\", \"/content/drive/MyDrive/StyleChanger/style_bass.wav\")\n",
        "shutil.copy(\"output/style_synced/other.wav\", \"/content/drive/MyDrive/StyleChanger/style_other.wav\")"
      ],
      "execution_count": null,
      "outputs": []
    },
    {
      "cell_type": "code",
      "metadata": {
        "id": "J2w0mjWSaXNc"
      },
      "source": [
        "drive.flush_and_unmount()\n",
        "print('All changes made in this colab session should now be visible in Drive.')"
      ],
      "execution_count": null,
      "outputs": []
    }
  ]
}